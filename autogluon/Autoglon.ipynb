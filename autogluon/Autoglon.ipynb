{
 "cells": [
  {
   "cell_type": "code",
   "execution_count": null,
   "id": "3f3f77ae",
   "metadata": {},
   "outputs": [
    {
     "name": "stderr",
     "output_type": "stream",
     "text": [
      "c:\\Users\\monte\\anaconda3\\envs\\ag_py39\\lib\\site-packages\\tqdm\\auto.py:21: TqdmWarning: IProgress not found. Please update jupyter and ipywidgets. See https://ipywidgets.readthedocs.io/en/stable/user_install.html\n",
      "  from .autonotebook import tqdm as notebook_tqdm\n"
     ]
    }
   ],
   "source": [
    "\n",
    "\n",
    "# 1) Imports y configuración\n",
    "import os\n",
    "import pandas as pd\n",
    "import numpy as np\n",
    "from autogluon.timeseries import TimeSeriesDataFrame, TimeSeriesPredictor\n",
    "\n",
    "\n"
   ]
  },
  {
   "cell_type": "code",
   "execution_count": 2,
   "id": "184b76e3",
   "metadata": {},
   "outputs": [],
   "source": [
    "# 2) Carga de datos\n",
    "sellin_path    = r\"C:\\Users\\monte\\Desktop\\Lab3\\sell-in.txt\"\n",
    "productos_path = r\"C:\\Users\\monte\\Desktop\\Lab3\\tb_productos.txt\"\n",
    "stock_path     = r\"C:\\Users\\monte\\Desktop\\Lab3\\tb_stocks.txt\"\n",
    "ids_path       = r\"C:\\Users\\monte\\Desktop\\Lab3\\product_id_apredecir201912.TXT\"\n",
    "\n",
    "df_sellin    = pd.read_csv(sellin_path, sep=\"\\t\")\n",
    "df_productos = pd.read_csv(productos_path, sep=\"\\t\")\n",
    "df_stock     = pd.read_csv(stock_path, sep=\"\\t\")\n",
    "with open(ids_path, \"r\") as f:\n",
    "    product_ids = [int(line.strip()) for line in f if line.strip().isdigit()]\n"
   ]
  },
  {
   "cell_type": "code",
   "execution_count": 3,
   "id": "4e37049f",
   "metadata": {},
   "outputs": [],
   "source": [
    "\n",
    "# 3) Preprocesamiento y df_monthly\n",
    "df_sellin[\"timestamp\"] = pd.to_datetime(df_sellin[\"periodo\"].astype(str), format=\"%Y%m\")\n",
    "df_sellin = df_sellin[\n",
    "    (df_sellin[\"timestamp\"] <= \"2019-12-01\") &\n",
    "    (df_sellin[\"product_id\"].isin(product_ids))\n",
    "]\n",
    "df_monthly = (\n",
    "    df_sellin\n",
    "      .groupby([\"product_id\",\"timestamp\"], as_index=False)[\"tn\"]\n",
    "      .sum()\n",
    "      .rename(columns={\"product_id\":\"item_id\",\"tn\":\"target\"})\n",
    ")\n",
    "\n"
   ]
  },
  {
   "cell_type": "code",
   "execution_count": 4,
   "id": "4b26cb83",
   "metadata": {},
   "outputs": [],
   "source": [
    "# 4) Feature engineering: rolling stats\n",
    "windows = [3,6,12]\n",
    "for w in windows:\n",
    "    grp = df_monthly.groupby(\"item_id\")[\"target\"]\n",
    "    df_monthly[f\"roll_mean_{w}\"] = grp.transform(lambda x: x.shift(1).rolling(w,1).mean())\n",
    "    df_monthly[f\"roll_std_{w}\"]  = grp.transform(lambda x: x.shift(1).rolling(w,1).std().fillna(0))\n",
    "    df_monthly[f\"roll_med_{w}\"]  = grp.transform(lambda x: x.shift(1).rolling(w,1).median())\n"
   ]
  },
  {
   "cell_type": "code",
   "execution_count": 5,
   "id": "333c1e2f",
   "metadata": {},
   "outputs": [],
   "source": [
    "\n",
    "# 5) EWM y diffs\n",
    "df_monthly[\"ewm_mean_6\"] = df_monthly.groupby(\"item_id\")[\"target\"].transform(\n",
    "    lambda x: x.shift(1).ewm(span=6,adjust=False).mean())\n",
    "df_monthly[\"diff_1\"]    = df_monthly.groupby(\"item_id\")[\"target\"].diff(1)\n",
    "df_monthly[\"pct_chg_1\"] = df_monthly.groupby(\"item_id\")[\"target\"].pct_change(1).fillna(0)\n",
    "\n"
   ]
  },
  {
   "cell_type": "code",
   "execution_count": 6,
   "id": "6595a2b2",
   "metadata": {},
   "outputs": [],
   "source": [
    "# 6) (Opcional) min/max rolling\n",
    "for w in windows:\n",
    "    grp = df_monthly.groupby(\"item_id\")[\"target\"]\n",
    "    df_monthly[f\"roll_min_{w}\"] = grp.transform(lambda x: x.shift(1).rolling(w,1).min())\n",
    "    df_monthly[f\"roll_max_{w}\"] = grp.transform(lambda x: x.shift(1).rolling(w,1).max())\n",
    "\n"
   ]
  },
  {
   "cell_type": "code",
   "execution_count": 7,
   "id": "fb15db4c",
   "metadata": {},
   "outputs": [
    {
     "name": "stderr",
     "output_type": "stream",
     "text": [
      "c:\\Users\\monte\\anaconda3\\envs\\ag_py39\\lib\\site-packages\\autogluon\\timeseries\\dataset\\ts_dataframe.py:1009: FutureWarning: 'M' is deprecated and will be removed in a future version, please use 'ME' instead.\n",
      "  offset = pd.tseries.frequencies.to_offset(freq)\n"
     ]
    }
   ],
   "source": [
    "# 7) Construir TimeSeriesDataFrame y forzar frecuencia\n",
    "ts_data = TimeSeriesDataFrame.from_data_frame(\n",
    "    df_monthly, id_column=\"item_id\", timestamp_column=\"timestamp\")\n",
    "ts_data = ts_data.convert_frequency(freq=\"M\")\n",
    "\n"
   ]
  },
  {
   "cell_type": "code",
   "execution_count": 8,
   "id": "54a29245",
   "metadata": {},
   "outputs": [
    {
     "name": "stderr",
     "output_type": "stream",
     "text": [
      "c:\\Users\\monte\\anaconda3\\envs\\ag_py39\\lib\\site-packages\\autogluon\\timeseries\\predictor.py:198: FutureWarning: 'M' is deprecated and will be removed in a future version, please use 'ME' instead.\n",
      "  offset = pd.tseries.frequencies.to_offset(self.freq)\n",
      "Frequency 'M' stored as 'ME'\n",
      "Beginning AutoGluon training...\n",
      "AutoGluon will save models to 'c:\\Users\\monte\\AppData\\Local\\Programs\\Microsoft VS Code\\autogluon_models_2steps'\n",
      "=================== System Info ===================\n",
      "AutoGluon Version:  1.3.1\n",
      "Python Version:     3.9.23\n",
      "Operating System:   Windows\n",
      "Platform Machine:   AMD64\n",
      "Platform Version:   10.0.26100\n",
      "CPU Count:          8\n",
      "GPU Count:          0\n",
      "Memory Avail:       0.66 GB / 7.77 GB (8.5%)\n",
      "Disk Space Avail:   27.80 GB / 237.12 GB (11.7%)\n",
      "===================================================\n",
      "Setting presets to: medium_quality\n",
      "\n",
      "Fitting with arguments:\n",
      "{'enable_ensemble': True,\n",
      " 'eval_metric': RMSE,\n",
      " 'freq': 'ME',\n",
      " 'hyperparameters': 'light',\n",
      " 'known_covariates_names': [],\n",
      " 'num_val_windows': 1,\n",
      " 'prediction_length': 2,\n",
      " 'quantile_levels': [0.1, 0.2, 0.3, 0.4, 0.5, 0.6, 0.7, 0.8, 0.9],\n",
      " 'random_seed': 123,\n",
      " 'refit_every_n_windows': 1,\n",
      " 'refit_full': False,\n",
      " 'skip_model_selection': False,\n",
      " 'target': 'target',\n",
      " 'verbosity': 2}\n",
      "\n",
      "Provided train_data has 22375 rows (NaN fraction=0.1%), 780 time series. Median time series length is 36 (min=4, max=36). \n",
      "\tRemoving 46 short time series from train_data. Only series with length >= 7 will be used for training.\n",
      "\tAfter filtering, train_data has 22132 rows (NaN fraction=0.1%), 734 time series. Median time series length is 36 (min=7, max=36). \n",
      "\n",
      "Provided data contains following columns:\n",
      "\ttarget: 'target'\n",
      "\tpast_covariates:\n",
      "\t\tcategorical:        []\n",
      "\t\tcontinuous (float): ['roll_mean_3', 'roll_std_3', 'roll_med_3', 'roll_mean_6', 'roll_std_6', 'roll_med_6', ...]\n",
      "\n",
      "To learn how to fix incorrectly inferred types, please see documentation for TimeSeriesPredictor.fit\n",
      "\n",
      "AutoGluon will gauge predictive performance using evaluation metric: 'RMSE'\n",
      "\tThis metric's sign has been flipped to adhere to being higher_is_better. The metric score can be multiplied by -1 to get the metric value.\n",
      "===================================================\n",
      "\n",
      "Starting training. Start time is 2025-07-10 13:21:07\n",
      "Models that will be trained: ['Naive', 'SeasonalNaive', 'RecursiveTabular', 'DirectTabular', 'ETS', 'Theta', 'Chronos[bolt_small]', 'TemporalFusionTransformer']\n",
      "Training timeseries model Naive. \n",
      "\t-46.8816      = Validation score (-RMSE)\n",
      "\t0.14    s     = Training runtime\n",
      "\t10.37   s     = Validation (prediction) runtime\n",
      "Training timeseries model SeasonalNaive. \n",
      "\t-30.9880      = Validation score (-RMSE)\n",
      "\t0.15    s     = Training runtime\n",
      "\t1.57    s     = Validation (prediction) runtime\n",
      "Training timeseries model RecursiveTabular. \n",
      "\tTime series in the dataset are too short for chosen differences [12]. Setting differences to [1].\n",
      "\t-28.7499      = Validation score (-RMSE)\n",
      "\t4.94    s     = Training runtime\n",
      "\t0.17    s     = Validation (prediction) runtime\n",
      "Training timeseries model DirectTabular. \n",
      "\t-29.1583      = Validation score (-RMSE)\n",
      "\t2.69    s     = Training runtime\n",
      "\t0.27    s     = Validation (prediction) runtime\n",
      "Training timeseries model ETS. \n",
      "\tWarning: ETS\\W0 failed for 29 time series (4.0%). Fallback model SeasonalNaive was used for these time series.\n",
      "\t-32.9570      = Validation score (-RMSE)\n",
      "\t0.15    s     = Training runtime\n",
      "\t23.79   s     = Validation (prediction) runtime\n",
      "Training timeseries model Theta. \n",
      "\t-32.4457      = Validation score (-RMSE)\n",
      "\t0.13    s     = Training runtime\n",
      "\t1.78    s     = Validation (prediction) runtime\n",
      "Training timeseries model Chronos[bolt_small]. \n",
      "\t-25.8381      = Validation score (-RMSE)\n",
      "\t12.05   s     = Training runtime\n",
      "\t4.77    s     = Validation (prediction) runtime\n",
      "Training timeseries model TemporalFusionTransformer. \n",
      "\t-23.4096      = Validation score (-RMSE)\n",
      "\t633.74  s     = Training runtime\n",
      "\t1.61    s     = Validation (prediction) runtime\n",
      "Fitting simple weighted ensemble.\n",
      "\tEnsemble weights: {'Chronos[bolt_small]': 0.01, 'DirectTabular': 0.15, 'ETS': 0.11, 'SeasonalNaive': 0.21, 'TemporalFusionTransformer': 0.51}\n",
      "\t-21.7776      = Validation score (-RMSE)\n",
      "\t0.91    s     = Training runtime\n",
      "\t32.02   s     = Validation (prediction) runtime\n",
      "Training complete. Models trained: ['Naive', 'SeasonalNaive', 'RecursiveTabular', 'DirectTabular', 'ETS', 'Theta', 'Chronos[bolt_small]', 'TemporalFusionTransformer', 'WeightedEnsemble']\n",
      "Total runtime: 701.54 s\n",
      "Best model: WeightedEnsemble\n",
      "Best model score: -21.7776\n"
     ]
    },
    {
     "data": {
      "text/plain": [
       "<autogluon.timeseries.predictor.TimeSeriesPredictor at 0x1f6b834e250>"
      ]
     },
     "execution_count": 8,
     "metadata": {},
     "output_type": "execute_result"
    }
   ],
   "source": [
    "# 8) Entrenar predictor con horizonte 2 (para predecir hasta feb-2020)\n",
    "predictor = TimeSeriesPredictor(\n",
    "    target=\"target\",\n",
    "    prediction_length=2,\n",
    "    eval_metric=\"RMSE\",\n",
    "    path=\"autogluon_models_2steps\",\n",
    "    freq=\"M\"\n",
    ")\n",
    "predictor.fit(train_data=ts_data, presets=\"medium_quality\")\n",
    "\n"
   ]
  },
  {
   "cell_type": "code",
   "execution_count": 9,
   "id": "ccec0080",
   "metadata": {},
   "outputs": [
    {
     "name": "stderr",
     "output_type": "stream",
     "text": [
      "Model not specified in predict, will default to the model with the best validation score: WeightedEnsemble\n",
      "\tWarning: ETS\\W0 failed for 46 time series (5.9%). Fallback model SeasonalNaive was used for these time series.\n"
     ]
    }
   ],
   "source": [
    "# 9) Generar forecast\n",
    "forecast = predictor.predict(ts_data)\n",
    "\n"
   ]
  },
  {
   "cell_type": "code",
   "execution_count": 10,
   "id": "f46859f5",
   "metadata": {},
   "outputs": [
    {
     "name": "stdout",
     "output_type": "stream",
     "text": [
      "Columnas: ['item_id', 'timestamp', 'mean', '0.1', '0.2', '0.3', '0.4', '0.5', '0.6', '0.7', '0.8', '0.9']\n",
      "Timestamps: [Timestamp('2020-01-31 00:00:00'), Timestamp('2020-02-29 00:00:00')]\n"
     ]
    }
   ],
   "source": [
    "# 10) Convertir a DataFrame plano y revisar\n",
    "df_pred = forecast.reset_index()\n",
    "print(\"Columnas:\", df_pred.columns.tolist())\n",
    "print(\"Timestamps:\", sorted(df_pred[\"timestamp\"].unique()))\n",
    "\n"
   ]
  },
  {
   "cell_type": "code",
   "execution_count": null,
   "id": "45fd0dde",
   "metadata": {},
   "outputs": [
    {
     "name": "stdout",
     "output_type": "stream",
     "text": [
      "✅ CSV listo: C:\\Users\\monte\\Desktop\\predicciones_Febrero2020_with_RN.csv\n",
      "   product_id  timestamp    tn\n",
      "1       20001 2020-02-29  1311\n",
      "3       20002 2020-02-29  1080\n",
      "5       20003 2020-02-29   752\n",
      "7       20004 2020-02-29   552\n",
      "9       20005 2020-02-29   541\n"
     ]
    }
   ],
   "source": [
    "# 11) Exportar solo febrero 2020, columna 'mean' → 'tn'\n",
    "df_export = df_pred[[\"item_id\",\"timestamp\",\"mean\"]].copy()\n",
    "df_export.rename(columns={\"item_id\":\"product_id\",\"mean\":\"tn\"}, inplace=True)\n",
    "df_export = df_export[df_export[\"timestamp\"] == pd.to_datetime(\"2020-02-29\")]\n",
    "df_export[\"tn\"] = df_export[\"tn\"].round().astype(int)\n",
    "\n",
    "output_path = os.path.join(os.path.expanduser(\"~\"), \"Desktop\",\n",
    "                           \"predicciones_Febrero2020_with_RN.csv\")\n",
    "df_export[[\"product_id\",\"tn\"]].sort_values(\"product_id\")\\\n",
    "    .to_csv(output_path, index=False)\n",
    "\n",
    "print(\"CSV listo:\", output_path)\n",
    "print(df_export.head())"
   ]
  }
 ],
 "metadata": {
  "kernelspec": {
   "display_name": "ag_py39",
   "language": "python",
   "name": "python3"
  },
  "language_info": {
   "codemirror_mode": {
    "name": "ipython",
    "version": 3
   },
   "file_extension": ".py",
   "mimetype": "text/x-python",
   "name": "python",
   "nbconvert_exporter": "python",
   "pygments_lexer": "ipython3",
   "version": "3.9.23"
  }
 },
 "nbformat": 4,
 "nbformat_minor": 5
}
